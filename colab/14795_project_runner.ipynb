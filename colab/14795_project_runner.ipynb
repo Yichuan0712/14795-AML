{
  "nbformat": 4,
  "nbformat_minor": 0,
  "metadata": {
    "colab": {
      "provenance": []
    },
    "kernelspec": {
      "name": "python3",
      "display_name": "Python 3"
    },
    "language_info": {
      "name": "python"
    }
  },
  "cells": [
    {
      "cell_type": "code",
      "execution_count": 1,
      "metadata": {
        "colab": {
          "base_uri": "https://localhost:8080/"
        },
        "id": "1oUCsHzy83Hv",
        "outputId": "5e31c56e-bcf7-427d-b220-c625c09a3871"
      },
      "outputs": [
        {
          "output_type": "stream",
          "name": "stdout",
          "text": [
            "Mounted at /content/drive\n",
            "Cloning into '14795-AML'...\n",
            "remote: Enumerating objects: 37, done.\u001b[K\n",
            "remote: Counting objects: 100% (37/37), done.\u001b[K\n",
            "remote: Compressing objects: 100% (25/25), done.\u001b[K\n",
            "remote: Total 37 (delta 7), reused 29 (delta 2), pack-reused 0 (from 0)\u001b[K\n",
            "Receiving objects: 100% (37/37), 108.97 KiB | 7.26 MiB/s, done.\n",
            "Resolving deltas: 100% (7/7), done.\n"
          ]
        }
      ],
      "source": [
        "from google.colab import drive\n",
        "drive.mount('/content/drive')\n",
        "!cp /content/drive/MyDrive/SAML-D.csv /content\n",
        "!git clone https://github.com/Yichuan0712/14795-AML.git"
      ]
    }
  ]
}